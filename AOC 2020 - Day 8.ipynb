{
 "cells": [
  {
   "cell_type": "code",
   "execution_count": 118,
   "metadata": {},
   "outputs": [],
   "source": [
    "# Get the challenge:\n",
    "from aocd import get_data\n",
    "d = (get_data(day=8)).split('\\n')"
   ]
  },
  {
   "cell_type": "code",
   "execution_count": 119,
   "metadata": {},
   "outputs": [
    {
     "name": "stdout",
     "output_type": "stream",
     "text": [
      "Answer to part 1: 1941\n"
     ]
    }
   ],
   "source": [
    "import regex\n",
    "\n",
    "i = 0\n",
    "seti = []\n",
    "acc = 0\n",
    "\n",
    "# Relatively straightforward pointer stuff\n",
    "\n",
    "while i not in seti:\n",
    "    seti.append(i)\n",
    "    v = regex.match(\"(\\w+) ([+-]\\d+)\",d[i])\n",
    "    #print(v.group(1))\n",
    "    if v.group(1)=='jmp':\n",
    "        i = i+int(v.group(2))\n",
    "        continue\n",
    "    if v.group(1)=='acc':\n",
    "        i = i+1\n",
    "        acc = acc + int(v.group(2))\n",
    "        continue\n",
    "    if v.group(1)=='nop':\n",
    "        i = i+1\n",
    "        continue\n",
    "    \n",
    "print('Answer to part 1: ' + str(acc))\n",
    "    "
   ]
  },
  {
   "cell_type": "code",
   "execution_count": 121,
   "metadata": {},
   "outputs": [],
   "source": [
    "# Making a copy of the instructions from part 1, so we can change them one at a time\n",
    "import copy\n",
    "ins = copy.deepcopy(seti)"
   ]
  },
  {
   "cell_type": "code",
   "execution_count": 152,
   "metadata": {},
   "outputs": [
    {
     "name": "stdout",
     "output_type": "stream",
     "text": [
      "Answer to part 1: 2096\n"
     ]
    }
   ],
   "source": [
    "i = 0\n",
    "seti = []\n",
    "acc = 0\n",
    "ans = 0\n",
    "\n",
    "# If you don't run the instructions in reverse order, you get multiple answers AFAICT\n",
    "# Not real proud of this, but it does seem to work.\n",
    "\n",
    "for j in reversed(ins):\n",
    "    if ans == 1: break # Hacky way of breaking two loops in Python\n",
    "    i = 0\n",
    "    acc = 0\n",
    "    seti = []\n",
    "    while i not in seti and i < len(d) and i >= 0: #Ugh - so many edge cases\n",
    "        seti.append(i)\n",
    "        v = regex.match(\"(\\w+) ([+-]\\d+)\",d[i])\n",
    "        if i == j: # Swap the instructions if this one matches\n",
    "            if v.group(1) =='jmp': inst='nop'\n",
    "            elif v.group(1) =='nop': inst='jmp'\n",
    "        else: inst = v.group(1)\n",
    "        if inst=='jmp':\n",
    "            i = i+int(v.group(2))       \n",
    "        if inst=='acc':\n",
    "            i = i+1\n",
    "            acc = acc + int(v.group(2))\n",
    "        if inst=='nop':\n",
    "            i = i+1\n",
    "        if i == len(d):\n",
    "            #print(\"Program Terminated\")\n",
    "            print('Answer to part 1: ' + str(acc))\n",
    "            ans = 1 # Hacky way of breaking two loops in Python\n",
    "            break"
   ]
  }
 ],
 "metadata": {
  "kernelspec": {
   "display_name": "Python 3",
   "language": "python",
   "name": "python3"
  },
  "language_info": {
   "codemirror_mode": {
    "name": "ipython",
    "version": 3
   },
   "file_extension": ".py",
   "mimetype": "text/x-python",
   "name": "python",
   "nbconvert_exporter": "python",
   "pygments_lexer": "ipython3",
   "version": "3.8.0"
  }
 },
 "nbformat": 4,
 "nbformat_minor": 4
}
