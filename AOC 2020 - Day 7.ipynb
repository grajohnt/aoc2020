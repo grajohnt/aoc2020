{
 "cells": [
  {
   "cell_type": "code",
   "execution_count": 197,
   "metadata": {},
   "outputs": [],
   "source": [
    "# Get the challenge:\n",
    "from aocd import get_data\n",
    "d = (get_data(day=7)).split('\\n')"
   ]
  },
  {
   "cell_type": "code",
   "execution_count": 198,
   "metadata": {},
   "outputs": [
    {
     "name": "stdout",
     "output_type": "stream",
     "text": [
      "Answer to part 1: 229\n"
     ]
    }
   ],
   "source": [
    "def find_containers(data, cont): # Pass this the full list and container name\n",
    "    containers = []\n",
    "    for l in data:\n",
    "        h = l.split(' bags contain ')\n",
    "        c = regex.findall(\"(\\d+) (\\w+ \\w+)\",h[1])\n",
    "        for container in c:\n",
    "            if container[1] in cont:\n",
    "                containers.append(h[0]) \n",
    "    return(containers)\n",
    "\n",
    "\n",
    "allcont = []\n",
    "newcont = \"shiny gold\"\n",
    "while len(newcont) > 0: # Recursion until nothing new is found\n",
    "    newcont = find_containers(d,newcont)\n",
    "    allcont.extend(newcont) # Have to keep track of all, because dupes\n",
    "\n",
    "\n",
    "print('Answer to part 1: ' + str(len(set(allcont)))) # Have to eliminate dupes"
   ]
  },
  {
   "cell_type": "code",
   "execution_count": 199,
   "metadata": {},
   "outputs": [
    {
     "name": "stdout",
     "output_type": "stream",
     "text": [
      "Answer to part 2: 6683\n"
     ]
    }
   ],
   "source": [
    "def find_n_rec(data, cont): # Pass this the full list and a list with ['number', container]\n",
    "    global count # Keep count globally\n",
    "    for l in data:\n",
    "        h = l.split(' bags contain ')\n",
    "        c = regex.findall(\"(\\d+) (\\w+ \\w+)\",h[1])\n",
    "        for cin in cont:                     # for each container in the list...\n",
    "            if h[0] == cin[1]:               # ...see if our container name is there...\n",
    "                for i in range(int(cin[0])): # ...if so, see how many are there...\n",
    "                    count = count+1          # ...count each one...\n",
    "                    find_n_rec(data,c)       # ...and then run this for each container in the container.                \n",
    "    return(containers)\n",
    "\n",
    "count=0\n",
    "cont = [['1', 'shiny gold']]\n",
    "find_n_rec(d,cont)\n",
    "\n",
    "print('Answer to part 2: ' + str(count-1)) # Don't count the first shiny gold bag\n"
   ]
  }
 ],
 "metadata": {
  "kernelspec": {
   "display_name": "Python 3",
   "language": "python",
   "name": "python3"
  },
  "language_info": {
   "codemirror_mode": {
    "name": "ipython",
    "version": 3
   },
   "file_extension": ".py",
   "mimetype": "text/x-python",
   "name": "python",
   "nbconvert_exporter": "python",
   "pygments_lexer": "ipython3",
   "version": "3.8.0"
  }
 },
 "nbformat": 4,
 "nbformat_minor": 4
}
