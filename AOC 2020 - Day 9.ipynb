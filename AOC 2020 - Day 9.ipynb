{
 "cells": [
  {
   "cell_type": "code",
   "execution_count": 59,
   "metadata": {},
   "outputs": [],
   "source": [
    "# Get the challenge:\n",
    "from aocd import get_data\n",
    "d = (get_data(day=9)).split('\\n')"
   ]
  },
  {
   "cell_type": "code",
   "execution_count": 60,
   "metadata": {},
   "outputs": [
    {
     "name": "stdout",
     "output_type": "stream",
     "text": [
      "Answer to part 1 is: 36845998\n"
     ]
    }
   ],
   "source": [
    "from collections import deque\n",
    "from itertools import combinations\n",
    "\n",
    "f=0 # Stupid flag to break the loops - need to do this better\n",
    "ad = [int(val) for val in d[25:]] # Keep track of whole list for part 2\n",
    "\n",
    "pre =  deque([int(val) for val in d[:25]],maxlen=25) # deques are neat - make one from first 25\n",
    "post = [int(val) for val in d[25:]] # Everything after 25th element\n",
    "\n",
    "for n in post:\n",
    "    for comb in combinations(pre,2): #OK - Kind of cheating?\n",
    "        f = 0\n",
    "        if n == sum(comb):\n",
    "            pre.append(n) # Add to my deque of 25\n",
    "            ad.append(n)  # ...but keep track of all\n",
    "            f = 1         # set flag that an answer was found\n",
    "            break\n",
    "    if f==0: # Answer not found, which is the answer.\n",
    "        print(\"Answer to part 1 is: \" + str(n))\n",
    "        v = n # Keep track for part 2\n",
    "        break\n"
   ]
  },
  {
   "cell_type": "code",
   "execution_count": 61,
   "metadata": {},
   "outputs": [
    {
     "name": "stdout",
     "output_type": "stream",
     "text": [
      "Answer to part 2 is: 4830226\n"
     ]
    }
   ],
   "source": [
    "for l in range(2,20):            # Guessing length here of 2-20 numbers here - could do all\n",
    "    for i in range(len(ad)+1-l): # Index can be from full length of numbers - length of ints to add\n",
    "        if sum(list(ad[i:i+l])) == v:\n",
    "            ans = list(ad[i:i+l])\n",
    "            print('Answer to part 2 is: ' + str(ans[0]+ans[len(ans)-1]))\n",
    "            break\n"
   ]
  },
  {
   "cell_type": "code",
   "execution_count": null,
   "metadata": {},
   "outputs": [],
   "source": []
  }
 ],
 "metadata": {
  "kernelspec": {
   "display_name": "Python 3",
   "language": "python",
   "name": "python3"
  },
  "language_info": {
   "codemirror_mode": {
    "name": "ipython",
    "version": 3
   },
   "file_extension": ".py",
   "mimetype": "text/x-python",
   "name": "python",
   "nbconvert_exporter": "python",
   "pygments_lexer": "ipython3",
   "version": "3.8.0"
  }
 },
 "nbformat": 4,
 "nbformat_minor": 4
}
