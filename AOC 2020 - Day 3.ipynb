{
 "cells": [
  {
   "cell_type": "code",
   "execution_count": 36,
   "metadata": {},
   "outputs": [],
   "source": [
    "# Get the challenge:\n",
    "from aocd import get_data\n",
    "d = (get_data(day=3)).split('\\n')"
   ]
  },
  {
   "cell_type": "code",
   "execution_count": 37,
   "metadata": {},
   "outputs": [
    {
     "name": "stdout",
     "output_type": "stream",
     "text": [
      "Answer to part 1 is: 218\n"
     ]
    }
   ],
   "source": [
    "pos = 0\n",
    "t = 0\n",
    "w = len(d[0])\n",
    "\n",
    "for r in d:\n",
    "    if pos >= w: pos = pos - w \n",
    "    if r[pos] == '#': t = t+1\n",
    "    pos = pos + 3\n",
    "    \n",
    "print('Answer to part 1 is: ' + str(t))      "
   ]
  },
  {
   "cell_type": "code",
   "execution_count": 38,
   "metadata": {},
   "outputs": [
    {
     "data": {
      "text/plain": [
       "218"
      ]
     },
     "execution_count": 38,
     "metadata": {},
     "output_type": "execute_result"
    }
   ],
   "source": [
    "def slopes(data,right,down):\n",
    "    pos = 0\n",
    "    trees = 0\n",
    "    rn = 0\n",
    "    \n",
    "    for r in data:\n",
    "        if rn % down > 0: \n",
    "            rn = rn + 1\n",
    "            continue\n",
    "        if pos >= w: pos = pos - w\n",
    "        if r[pos] == '#': trees = trees+1\n",
    "        pos = pos+right\n",
    "        rn = rn + 1\n",
    "    return trees\n",
    "\n",
    "slopes(d,3,1)"
   ]
  },
  {
   "cell_type": "code",
   "execution_count": 39,
   "metadata": {},
   "outputs": [
    {
     "name": "stdout",
     "output_type": "stream",
     "text": [
      "Answer to part 2 is: 3847183340\n"
     ]
    }
   ],
   "source": [
    "print('Answer to part 2 is: ' + str(slopes(d,1,1)*slopes(d,3,1)*slopes(d,5,1)*slopes(d,7,1)*slopes(d,1,2)))\n",
    "      "
   ]
  }
 ],
 "metadata": {
  "kernelspec": {
   "display_name": "Python 3",
   "language": "python",
   "name": "python3"
  },
  "language_info": {
   "codemirror_mode": {
    "name": "ipython",
    "version": 3
   },
   "file_extension": ".py",
   "mimetype": "text/x-python",
   "name": "python",
   "nbconvert_exporter": "python",
   "pygments_lexer": "ipython3",
   "version": "3.8.0"
  }
 },
 "nbformat": 4,
 "nbformat_minor": 4
}
