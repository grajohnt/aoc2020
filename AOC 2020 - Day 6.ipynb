{
 "cells": [
  {
   "cell_type": "code",
   "execution_count": 39,
   "metadata": {},
   "outputs": [],
   "source": [
    "# Get the challenge:\n",
    "from aocd import get_data\n",
    "d = (get_data(day=6)).split('\\n\\n')"
   ]
  },
  {
   "cell_type": "code",
   "execution_count": 40,
   "metadata": {},
   "outputs": [
    {
     "name": "stdout",
     "output_type": "stream",
     "text": [
      "Answer to part 1: 6686\n"
     ]
    }
   ],
   "source": [
    "sum = 0\n",
    "for l in d:\n",
    "    l = l.replace('\\n', '')\n",
    "    sum = sum + len(''.join(set(l))) #Just use join the set...\n",
    "    \n",
    "print('Answer to part 1: ' + str(sum))"
   ]
  },
  {
   "cell_type": "code",
   "execution_count": 42,
   "metadata": {},
   "outputs": [
    {
     "name": "stdout",
     "output_type": "stream",
     "text": [
      "Answer to part 2: 3476\n"
     ]
    }
   ],
   "source": [
    "sum = 0\n",
    "\n",
    "for l in d:\n",
    "    g = l.split('\\n') # Split again on newlines to get everyone in the group\n",
    "    sum = sum + len(set(g[0]).intersection(*g)) #Intersect all elements of list g\n",
    "\n",
    "print('Answer to part 2: ' + str(sum))"
   ]
  }
 ],
 "metadata": {
  "kernelspec": {
   "display_name": "Python 3",
   "language": "python",
   "name": "python3"
  },
  "language_info": {
   "codemirror_mode": {
    "name": "ipython",
    "version": 3
   },
   "file_extension": ".py",
   "mimetype": "text/x-python",
   "name": "python",
   "nbconvert_exporter": "python",
   "pygments_lexer": "ipython3",
   "version": "3.8.0"
  }
 },
 "nbformat": 4,
 "nbformat_minor": 4
}
