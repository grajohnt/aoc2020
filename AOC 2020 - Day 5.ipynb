{
 "cells": [
  {
   "cell_type": "code",
   "execution_count": 87,
   "metadata": {},
   "outputs": [],
   "source": [
    "# Get the challenge:\n",
    "from aocd import get_data\n",
    "d = (get_data(day=5)).split('\\n')"
   ]
  },
  {
   "cell_type": "code",
   "execution_count": 88,
   "metadata": {},
   "outputs": [
    {
     "name": "stdout",
     "output_type": "stream",
     "text": [
      "44\n",
      "5\n"
     ]
    }
   ],
   "source": [
    "# One function for both - takes string of either form as input and the range of possible values\n",
    "\n",
    "def find_val(input,r):\n",
    "    l = list(range(r))\n",
    "    #print(l)\n",
    "    while len(l) > 1:\n",
    "        for i in input:\n",
    "            if i=='F' or i == 'L': l = l[:len(l)//2]\n",
    "            if i=='B' or i == 'R': l = l[len(l)//2:]\n",
    "            #print(l)\n",
    "    return(l[0])\n",
    "                \n",
    "# Tests...\n",
    "ans = find_val(\"FBFBBFF\",128)\n",
    "print(str(ans))\n",
    "ans = find_val(\"RLR\",8)\n",
    "print(ans)\n",
    "\n"
   ]
  },
  {
   "cell_type": "code",
   "execution_count": 89,
   "metadata": {},
   "outputs": [
    {
     "name": "stdout",
     "output_type": "stream",
     "text": [
      "Answer to part 1: 813\n"
     ]
    }
   ],
   "source": [
    "sid = 0\n",
    "for r in d:\n",
    "    row = find_val(r[:7],128)\n",
    "    col = find_val(r[-3:],8)\n",
    "    if row*8+col > sid: sid = row*8+col\n",
    "    \n",
    "print('Answer to part 1: ' + str(sid))"
   ]
  },
  {
   "cell_type": "code",
   "execution_count": 90,
   "metadata": {},
   "outputs": [
    {
     "name": "stdout",
     "output_type": "stream",
     "text": [
      "Answer to part 2: 612\n"
     ]
    }
   ],
   "source": [
    "seats = []\n",
    "for r in d:\n",
    "    row = find_val(r[:7],128)\n",
    "    col = find_val(r[-3:],8)\n",
    "    seats.append(row*8+col) \n",
    "\n",
    "seats.sort()\n",
    "\n",
    "# a tiny bit of indexing hell, because i is one off of index of seats\n",
    "for i,s in enumerate(seats[1:-1]):\n",
    "    if seats[i] == s-1 and seats[i+2] == s+1: continue\n",
    "    elif seats[i] != s-1: print('Answer to part 2: ' + str(seats[i]+1))"
   ]
  }
 ],
 "metadata": {
  "kernelspec": {
   "display_name": "Python 3",
   "language": "python",
   "name": "python3"
  },
  "language_info": {
   "codemirror_mode": {
    "name": "ipython",
    "version": 3
   },
   "file_extension": ".py",
   "mimetype": "text/x-python",
   "name": "python",
   "nbconvert_exporter": "python",
   "pygments_lexer": "ipython3",
   "version": "3.8.0"
  }
 },
 "nbformat": 4,
 "nbformat_minor": 4
}
