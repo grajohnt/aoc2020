{
 "cells": [
  {
   "cell_type": "code",
   "execution_count": 284,
   "metadata": {},
   "outputs": [],
   "source": [
    "# Get the challenge:\n",
    "from aocd import get_data\n",
    "d = (get_data(day=11)).split('\\n')"
   ]
  },
  {
   "cell_type": "code",
   "execution_count": 285,
   "metadata": {},
   "outputs": [
    {
     "name": "stdout",
     "output_type": "stream",
     "text": [
      "converged on iteration = 72\n",
      "Answer to part 1: 2406\n"
     ]
    }
   ],
   "source": [
    "# Concept from solution here: https://stackoverflow.com/questions/26363579/how-to-find-neighbors-of-a-2d-list-in-python\n",
    "\n",
    "import collections\n",
    "import itertools\n",
    "import copy \n",
    "\n",
    "# Function to find nearest neighbors\n",
    "def neighbors(i,j):\n",
    "    neigh = list(itertools.product(range(i-1, i+2), range(j-1,j+2)))\n",
    "    neigh.remove((i,j))\n",
    "    return neigh\n",
    "\n",
    "# Stupid python.\n",
    "dn = copy.deepcopy(d)\n",
    "\n",
    "# More stupid python tricks\n",
    "flag = 0\n",
    "l = 0\n",
    "\n",
    "while flag == 0: # Loop until it converges\n",
    "    \n",
    "    if dn == d and l > 1: # Convergence\n",
    "        flag = 1\n",
    "        print('converged on iteration = ' + str(l))\n",
    "        continue\n",
    "    elif l > 1: d = copy.deepcopy(dn) # Recycle dn in to d (stupid python)\n",
    "    l = l + 1  \n",
    "    for i, x in enumerate(d):\n",
    "        for j, y in enumerate(x):\n",
    "            if y == '.': continue # Floor - skip\n",
    "\n",
    "            em = 0 # Count of empties\n",
    "            oc = 0 # Count of occupied\n",
    "            \n",
    "            for a,b in neighbors(i,j):\n",
    "                \n",
    "                if a in range(len(d)) and b in range(len(d[0])): # Ignore the edges\n",
    "                    c = d[a][b]\n",
    "                    if c == 'L': em = em + 1 \n",
    "                    if c == '#': oc = oc + 1\n",
    "\n",
    "            if y == 'L' and oc == 0:\n",
    "                dn[i] = dn[i][:j] + '#' + dn[i][j+1:]\n",
    "\n",
    "            if y == '#' and oc >= 4:\n",
    "                dn[i] = dn[i][:j] + 'L' + dn[i][j+1:]\n",
    "\n",
    "                \n",
    "# Add up all the occupied seats\n",
    "totocc = 0\n",
    "for r in dn:\n",
    "    totocc = totocc + r.count('#')        \n",
    "print('Answer to part 1: ' + str(totocc))"
   ]
  },
  {
   "cell_type": "code",
   "execution_count": 286,
   "metadata": {},
   "outputs": [],
   "source": [
    "# Reload input to reset\n",
    "from aocd import get_data\n",
    "d = (get_data(day=11)).split('\\n')"
   ]
  },
  {
   "cell_type": "code",
   "execution_count": 287,
   "metadata": {},
   "outputs": [],
   "source": [
    "# Test Data\n",
    "#d = ['L.LL.LL.LL','LLLLLLL.LL','L.L.L..L..','LLLL.LL.LL','L.LL.LL.LL','L.LLLLL.LL','..L.L.....','LLLLLLLLLL','L.LLLLLL.L','L.LLLLL.LL']"
   ]
  },
  {
   "cell_type": "code",
   "execution_count": 288,
   "metadata": {},
   "outputs": [
    {
     "name": "stdout",
     "output_type": "stream",
     "text": [
      "converged on iteration = 91\n",
      "Answer to part 2: 2149\n"
     ]
    }
   ],
   "source": [
    "# Mostly the same as the first one, but with a new function and rules\n",
    "\n",
    "import collections\n",
    "import itertools\n",
    "import copy \n",
    "\n",
    "def fmatrixdir(mat,i,j): # From a matrix and coords, return empty and full seats\n",
    "    et = 0\n",
    "    ft = 0\n",
    "    \n",
    "    # 8 vectors in each direction    \n",
    "    vecs = [[-1,0],[-1,1],[0,1],[1,1],[1,0],[1,-1],[0,-1],[-1,-1]]\n",
    "    \n",
    "    for rd,cd in vecs:\n",
    "        (r,c) = (i,j) # set initial coords\n",
    "        while r >= 0 and r < len(mat) and c >= 0 and c < len(mat[0]): # fail on boundaries            \n",
    "            if (r,c) == (i,j): # Bit of a flow control mess here, but works\n",
    "                r = r + rd\n",
    "                c = c + cd\n",
    "                continue\n",
    "            if mat[r][c] == '.':\n",
    "                r = r + rd\n",
    "                c = c + cd               \n",
    "                continue\n",
    "            if mat[r][c] == 'L':\n",
    "                et = et+1\n",
    "                r = r + rd\n",
    "                c = c + cd\n",
    "                break\n",
    "            if mat[r][c] == '#':\n",
    "                ft = ft+1\n",
    "                r = r + rd\n",
    "                c = c + cd\n",
    "                break \n",
    "    return(et,ft) # Send the counts of empty and full\n",
    "        \n",
    "\n",
    "# Stupid python.\n",
    "dn = copy.deepcopy(d)\n",
    "\n",
    "# More stupid python tricks\n",
    "flag = 0\n",
    "l = 0\n",
    "\n",
    "while flag == 0: # Loop until it converges\n",
    "    \n",
    "    if dn == d and l > 1: # Convergence\n",
    "        flag = 1\n",
    "        print('converged on iteration = ' + str(l))\n",
    "        continue\n",
    "    elif l > 1: d = copy.deepcopy(dn) # Recycle dn in to d (stupid python)\n",
    "    l = l + 1 # Count iterations\n",
    "    #print(l) # Print iterations\n",
    "    for i, x in enumerate(d):\n",
    "        for j, y in enumerate(x):\n",
    "            if y == '.': continue # Floor - skip\n",
    "            em,oc = fmatrixdir(d,i,j) # Find the numbers of seats\n",
    "            if y == 'L' and oc == 0: # Empty to full rule\n",
    "                dn[i] = dn[i][:j] + '#' + dn[i][j+1:]\n",
    "\n",
    "            if y == '#' and oc >= 5: # Full to empty rule\n",
    "                dn[i] = dn[i][:j] + 'L' + dn[i][j+1:]\n",
    "\n",
    "\n",
    "# Add up all the occupied seats\n",
    "totocc = 0\n",
    "for r in dn:\n",
    "    totocc = totocc + r.count('#')        \n",
    "print('Answer to part 2: ' + str(totocc))"
   ]
  },
  {
   "cell_type": "code",
   "execution_count": null,
   "metadata": {},
   "outputs": [],
   "source": []
  }
 ],
 "metadata": {
  "kernelspec": {
   "display_name": "Python 3",
   "language": "python",
   "name": "python3"
  },
  "language_info": {
   "codemirror_mode": {
    "name": "ipython",
    "version": 3
   },
   "file_extension": ".py",
   "mimetype": "text/x-python",
   "name": "python",
   "nbconvert_exporter": "python",
   "pygments_lexer": "ipython3",
   "version": "3.8.0"
  }
 },
 "nbformat": 4,
 "nbformat_minor": 4
}
