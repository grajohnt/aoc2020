{
 "cells": [
  {
   "cell_type": "code",
   "execution_count": 85,
   "metadata": {},
   "outputs": [],
   "source": [
    "# Get the challenge:\n",
    "from aocd import get_data\n",
    "d = (get_data(day=11)).split('\\n')"
   ]
  },
  {
   "cell_type": "code",
   "execution_count": 86,
   "metadata": {},
   "outputs": [
    {
     "name": "stdout",
     "output_type": "stream",
     "text": [
      "converged on iteration = 72\n",
      "Answer to part 1: 2406\n"
     ]
    }
   ],
   "source": [
    "# Concept from solution here: https://stackoverflow.com/questions/26363579/how-to-find-neighbors-of-a-2d-list-in-python\n",
    "\n",
    "import collections\n",
    "import itertools\n",
    "import copy \n",
    "\n",
    "# Function to find nearest neighbors\n",
    "def neighbors(i,j):\n",
    "    neigh = list(itertools.product(range(i-1, i+2), range(j-1,j+2)))\n",
    "    neigh.remove((i,j))\n",
    "    return neigh\n",
    "\n",
    "# Stupid python.\n",
    "dn = copy.deepcopy(d)\n",
    "\n",
    "# More stupid python tricks\n",
    "flag = 0\n",
    "l = 0\n",
    "\n",
    "while flag == 0: # Loop until it converges\n",
    "    \n",
    "    if dn == d and l > 1: # Convergence\n",
    "        flag = 1\n",
    "        print('converged on iteration = ' + str(l))\n",
    "        continue\n",
    "    elif l > 1: d = copy.deepcopy(dn) # Recycle dn in to d (stupid python)\n",
    "    l = l + 1  \n",
    "    for i, x in enumerate(d):\n",
    "        for j, y in enumerate(x):\n",
    "            if y == '.': continue # Floor - skip\n",
    "\n",
    "            em = 0 # Count of empties\n",
    "            oc = 0 # Count of occupied\n",
    "            \n",
    "            for a,b in neighbors(i,j):\n",
    "                \n",
    "                if a in range(len(d)) and b in range(len(d[0])): # Ignore the edges\n",
    "                    c = d[a][b]\n",
    "                    if c == 'L': em = em + 1 \n",
    "                    if c == '#': oc = oc + 1\n",
    "\n",
    "            if y == 'L' and oc == 0:\n",
    "                dn[i] = dn[i][:j] + '#' + dn[i][j+1:]\n",
    "\n",
    "            if y == '#' and oc >= 4:\n",
    "                dn[i] = dn[i][:j] + 'L' + dn[i][j+1:]\n",
    "\n",
    "                \n",
    "# Add up all the occupied seats\n",
    "totocc = 0\n",
    "for r in dn:\n",
    "    totocc = totocc + r.count('#')        \n",
    "print('Answer to part 1: ' + str(totocc))"
   ]
  }
 ],
 "metadata": {
  "kernelspec": {
   "display_name": "Python 3",
   "language": "python",
   "name": "python3"
  },
  "language_info": {
   "codemirror_mode": {
    "name": "ipython",
    "version": 3
   },
   "file_extension": ".py",
   "mimetype": "text/x-python",
   "name": "python",
   "nbconvert_exporter": "python",
   "pygments_lexer": "ipython3",
   "version": "3.8.0"
  }
 },
 "nbformat": 4,
 "nbformat_minor": 4
}
