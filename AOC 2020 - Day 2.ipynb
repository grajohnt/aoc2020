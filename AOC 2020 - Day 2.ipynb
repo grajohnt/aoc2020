{
 "cells": [
  {
   "cell_type": "code",
   "execution_count": 65,
   "metadata": {},
   "outputs": [],
   "source": [
    "# Get the challenge:\n",
    "from aocd import get_data\n",
    "d1 = (get_data(day=2)).split('\\n')"
   ]
  },
  {
   "cell_type": "code",
   "execution_count": 66,
   "metadata": {},
   "outputs": [
    {
     "name": "stdout",
     "output_type": "stream",
     "text": [
      "Answer to Part 1: 519\n"
     ]
    }
   ],
   "source": [
    "import regex\n",
    "\n",
    "count = 0\n",
    "\n",
    "for p in d1:\n",
    "    m = regex.match(\"(\\d+)-(\\d+) (\\w+): (\\w+)\",p)\n",
    "    # m.group(1) is lower limit, 2 is upper limit, 3 is character, and 4 is password\n",
    "    if int(m.group(1)) <= m.group(4).count(m.group(3)) <= int(m.group(2)): count = count+1\n",
    "\n",
    "\n",
    "print('Answer to Part 1: ' + str(count))"
   ]
  },
  {
   "cell_type": "code",
   "execution_count": 67,
   "metadata": {},
   "outputs": [
    {
     "name": "stdout",
     "output_type": "stream",
     "text": [
      "Answer to Part 2: 708\n"
     ]
    }
   ],
   "source": [
    "count = 0\n",
    "\n",
    "for p in d1:\n",
    "    m = regex.match(\"(\\d+)-(\\d+) (\\w+): (\\w+)\",p)\n",
    "    if bool(m.group(4)[int(m.group(1))-1] == m.group(3)) ^ bool(m.group(4)[int(m.group(2))-1] == m.group(3)) :\n",
    "        count = count+1\n",
    "print('Answer to Part 2: ' + str(count)) "
   ]
  }
 ],
 "metadata": {
  "kernelspec": {
   "display_name": "Python 3",
   "language": "python",
   "name": "python3"
  },
  "language_info": {
   "codemirror_mode": {
    "name": "ipython",
    "version": 3
   },
   "file_extension": ".py",
   "mimetype": "text/x-python",
   "name": "python",
   "nbconvert_exporter": "python",
   "pygments_lexer": "ipython3",
   "version": "3.8.0"
  }
 },
 "nbformat": 4,
 "nbformat_minor": 4
}
