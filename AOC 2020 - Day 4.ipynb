{
 "cells": [
  {
   "cell_type": "code",
   "execution_count": 118,
   "metadata": {},
   "outputs": [],
   "source": [
    "# Get the challenge:\n",
    "from aocd import get_data\n",
    "d = (get_data(day=4)).split('\\n\\n')"
   ]
  },
  {
   "cell_type": "code",
   "execution_count": 119,
   "metadata": {},
   "outputs": [
    {
     "name": "stdout",
     "output_type": "stream",
     "text": [
      "Answer to part 1 is: 247\n"
     ]
    }
   ],
   "source": [
    "import regex\n",
    "c = 0\n",
    "\n",
    "for l in d:\n",
    "    l = l.replace('\\n', ' ') #Ugh\n",
    "    if regex.match(\"(?=.*byr)(?=.*iyr)(?=.*eyr)(?=.*hgt)(?=.*hcl)(?=.*ecl)(?=.*pid)\",l):\n",
    "        c = c + 1\n",
    "        \n",
    "print('Answer to part 1 is: ' + str(c))"
   ]
  },
  {
   "cell_type": "code",
   "execution_count": 120,
   "metadata": {},
   "outputs": [
    {
     "name": "stdout",
     "output_type": "stream",
     "text": [
      "Answer to part 2 is: 145\n"
     ]
    }
   ],
   "source": [
    "c = 0\n",
    "\n",
    "#invalid = \"eyr:1972 cid:100\\nhcl:#18171d ecl:amb hgt:170 pid:186cm iyr:2018 byr:1926\\n\\niyr:2019\\nhcl:#602927 eyr:1967 hgt:170cm\\necl:grn pid:012533040 byr:1946\\n\\nhcl:dab227 iyr:2012\\necl:brn hgt:182cm pid:021572410 eyr:2020 byr:1992 cid:277\\n\\nhgt:59cm ecl:zzz\\neyr:2038 hcl:74454a iyr:2023\\npid:3556412378 byr:2007\".split(\"\\n\\n\")\n",
    "#valid = \"pid:087499704 hgt:74in ecl:grn iyr:2012 eyr:2030 byr:1980\\nhcl:#623a2f\\n\\neyr:2029 ecl:blu cid:129 byr:1989\\niyr:2014 pid:896056539 hcl:#a97842 hgt:165cm\\n\\nhcl:#888785\\nhgt:164cm byr:2001 iyr:2015 cid:88\\npid:545766238 ecl:hzl\\neyr:2022\\n\\niyr:2010 hgt:158cm hcl:#b6652a ecl:blu byr:1944 eyr:2021 pid:093154719\"\n",
    "#d = ['eyr:2024 ecl:amb pid:349191561 iyr:2018 hgt:156cm byr:1972 hcl:#341e13']\n",
    "#d = valid.split('\\n\\n')\n",
    "\n",
    "for l in d:\n",
    "    l = l.replace('\\n', ' ')\n",
    "    # Probably possible to do in one big regexp, but yikes\n",
    "    if regex.match(r\".*byr:(19[2-9][0-9]|200[0-2]).*\\b\",l):\n",
    "        if regex.match(r\".*iyr:(20[1][0-9]|2020)\\b\",l): \n",
    "            if regex.match(r\".*eyr:(20[2][0-9]|2030)\\b\",l): \n",
    "                if regex.match(r\".*hgt:((1[5][0-9]|1[6-8][0-9]|19[0-3])cm|(59|[6][0-9]|[7][0-6])in)\\b\",l):\n",
    "                    if regex.match(r\".*hcl:#([0-9a-f]{6})\\b\",l):\n",
    "                        if regex.match(r\".*ecl:(amb|blu|brn|gry|grn|hzl|oth)\\b\",l):\n",
    "                            if regex.match(r\".*pid:[0-9]{9}\\b\",l):                           \n",
    "                                c = c + 1         \n",
    "print('Answer to part 2 is: ' + str(c))"
   ]
  }
 ],
 "metadata": {
  "kernelspec": {
   "display_name": "Python 3",
   "language": "python",
   "name": "python3"
  },
  "language_info": {
   "codemirror_mode": {
    "name": "ipython",
    "version": 3
   },
   "file_extension": ".py",
   "mimetype": "text/x-python",
   "name": "python",
   "nbconvert_exporter": "python",
   "pygments_lexer": "ipython3",
   "version": "3.8.0"
  }
 },
 "nbformat": 4,
 "nbformat_minor": 4
}
