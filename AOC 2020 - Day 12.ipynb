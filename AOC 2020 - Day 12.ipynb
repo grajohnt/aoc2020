{
 "cells": [
  {
   "cell_type": "code",
   "execution_count": 50,
   "metadata": {},
   "outputs": [],
   "source": [
    "# Get the challenge:\n",
    "from aocd import get_data\n",
    "d = (get_data(day=12)).split('\\n')"
   ]
  },
  {
   "cell_type": "code",
   "execution_count": 51,
   "metadata": {},
   "outputs": [
    {
     "name": "stdout",
     "output_type": "stream",
     "text": [
      "Answer to part 1: 381\n"
     ]
    }
   ],
   "source": [
    "x = 0\n",
    "y = 0\n",
    "dir = 90\n",
    "\n",
    "\n",
    "for p in d:\n",
    "    dr = p[0] # First letter direction\n",
    "    m = p[1:] # ...then magnitude\n",
    "    if dr == 'L':\n",
    "        dir = dir - int(m)\n",
    "        dir = dir % 360 # Keep in 360\n",
    "    if dr == 'R':\n",
    "        dir = dir + int(m)\n",
    "        dir = dir % 360 # Keep in 360\n",
    "    if dr == 'F' and dir == 0: dr = 'N'\n",
    "    if dr == 'F' and dir == 90: dr = 'E'\n",
    "    if dr == 'F' and dir == 180: dr = 'S'\n",
    "    if dr == 'F' and dir == 270: dr = 'W'\n",
    "    if dr == 'W': x = x - int(m)\n",
    "    if dr == 'E': x = x + int(m)\n",
    "    if dr == 'N': y = y + int(m)\n",
    "    if dr == 'S': y = y - int(m)\n",
    "        \n",
    "print('Answer to part 1: ' + str(abs(x)+abs(y)))"
   ]
  },
  {
   "cell_type": "code",
   "execution_count": 52,
   "metadata": {},
   "outputs": [],
   "source": [
    "# Test data\n",
    "#d = ['F10','N3','F7','R90','F11']"
   ]
  },
  {
   "cell_type": "code",
   "execution_count": 53,
   "metadata": {},
   "outputs": [
    {
     "name": "stdout",
     "output_type": "stream",
     "text": [
      "Answer to part 1: 28591\n"
     ]
    }
   ],
   "source": [
    "import math\n",
    "\n",
    "def rotate(origin, point, angle): \n",
    "    # Function from here: https://stackoverflow.com/questions/34372480/rotate-point-about-another-point-in-degrees-python\n",
    "    # This is totally not necessary could have just flipped axes.\n",
    "    ox,oy = origin\n",
    "    px,py = point\n",
    "    qx = ox + math.cos(math.radians(angle)) * (px - ox) - math.sin(math.radians(angle)) * (py - oy)\n",
    "    qy = oy + math.sin(math.radians(angle)) * (px - ox) + math.cos(math.radians(angle)) * (py - oy)\n",
    "    return round(qx), round(qy) # Needs to be integers returned\n",
    "\n",
    "# Initial conditions\n",
    "x = 10\n",
    "y = 1\n",
    "sx = 0\n",
    "sy = 0\n",
    "\n",
    "for p in d:\n",
    "    dr = p[0] # Direction\n",
    "    m = p[1:] # Magnitude\n",
    "    if dr == 'L': # Rotate about 'origin' which is ship location\n",
    "        (x,y) = rotate([0,0],[x,y],int(m))\n",
    "    if dr == 'R': # Clockwise angles are negative\n",
    "        (x,y) = rotate([0,0],[x,y],-1 * int(m))        \n",
    "    if dr == 'F': # Step ship forward towards waypoint\n",
    "        sx = sx + int(m) * x\n",
    "        sy = sy + int(m) * y\n",
    "    if dr == 'W': x = x - int(m)\n",
    "    if dr == 'E': x = x + int(m)\n",
    "    if dr == 'N': y = y + int(m)\n",
    "    if dr == 'S': y = y - int(m)\n",
    "        \n",
    "print('Answer to part 1: ' + str(abs(sx)+abs(sy)))"
   ]
  },
  {
   "cell_type": "code",
   "execution_count": null,
   "metadata": {},
   "outputs": [],
   "source": []
  }
 ],
 "metadata": {
  "kernelspec": {
   "display_name": "Python 3",
   "language": "python",
   "name": "python3"
  },
  "language_info": {
   "codemirror_mode": {
    "name": "ipython",
    "version": 3
   },
   "file_extension": ".py",
   "mimetype": "text/x-python",
   "name": "python",
   "nbconvert_exporter": "python",
   "pygments_lexer": "ipython3",
   "version": "3.8.0"
  }
 },
 "nbformat": 4,
 "nbformat_minor": 4
}
