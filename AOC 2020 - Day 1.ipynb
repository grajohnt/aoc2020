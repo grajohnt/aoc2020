{
 "cells": [
  {
   "cell_type": "code",
   "execution_count": 11,
   "metadata": {},
   "outputs": [
    {
     "name": "stdout",
     "output_type": "stream",
     "text": [
      "[1078, 1109, 1702, 1293, 1541, 1422, 1679, 1891, 1898, 1455, 1540, 1205, 1971, 1582, 1139, 1438, 1457, 1725, 1907, 1872, 1101, 1403, 1557, 1597, 1619, 1974, 1287, 292, 1647, 1444, 1241, 879, 1761, 1067, 1178, 1510, 1110, 1233, 1121, 1299, 1796, 1124, 1768, 1466, 1871, 1279, 1344, 1485, 1258, 1179, 1147, 492, 1234, 1843, 1421, 1819, 1964, 1671, 1793, 1302, 1731, 1886, 1686, 1150, 1806, 1960, 1841, 1936, 1845, 1520, 1779, 1102, 1323, 1892, 1742, 1941, 1395, 1525, 1165, 715, 1829, 1448, 1906, 1191, 1981, 1115, 1716, 1644, 1310, 1836, 1105, 1517, 1790, 1950, 1741, 1256, 1467, 1677, 1372, 1838, 1637, 1143, 1763, 1222, 1291, 1835, 1602, 1927, 1933, 1952, 1692, 1662, 1967, 1791, 1984, 1176, 1324, 1460, 1416, 562, 1862, 1273, 1518, 1535, 1093, 1977, 1923, 1246, 1570, 1674, 1861, 1811, 1431, 47, 1158, 1912, 1322, 1062, 1407, 1528, 1068, 1868, 1997, 1930, 959, 1676, 1759, 2000, 1993, 1722, 1738, 1264, 1361, 1542, 1187, 1735, 1405, 1745, 1753, 1833, 1493, 1311, 1547, 1180, 1553, 1513, 1812, 1951, 1948, 1834, 1925, 1726, 1326, 1931, 1962, 1947, 1173, 1633, 1901, 1781, 1483, 1789, 1417, 1929, 1859, 1760, 1347, 1996, 1328, 1798, 1230, 1298, 1877, 1840, 1607, 1253, 1057, 1650, 1171, 1593]\n"
     ]
    }
   ],
   "source": [
    "# Get the first challenge:\n",
    "from aocd import get_data\n",
    "d1 = (get_data(day=1)).split('\\n')\n",
    "d1 = [int(i) for i in d1]"
   ]
  },
  {
   "cell_type": "code",
   "execution_count": 27,
   "metadata": {},
   "outputs": [
    {
     "name": "stdout",
     "output_type": "stream",
     "text": [
      "Found:492 +  1528\n",
      "Answer =  751776\n"
     ]
    }
   ],
   "source": [
    "from itertools import combinations\n",
    "\n",
    "c = list(itertools.combinations(d1, 3))\n",
    "for a,b in c:\n",
    " if a+b==2020:\n",
    "    print('Found:' + str(a) + ' + ', str(b))\n",
    "    print('Answer = ',str(a*b))\n"
   ]
  },
  {
   "cell_type": "code",
   "execution_count": 29,
   "metadata": {},
   "outputs": [
    {
     "name": "stdout",
     "output_type": "stream",
     "text": [
      "Found:1258 +  715  +  47\n",
      "Answer =  42275090\n"
     ]
    }
   ],
   "source": [
    "# Part Two\n",
    "\n",
    "q = list(itertools.combinations(d1, 3))\n",
    "for r,s,t in q:\n",
    " if r+s+t==2020:\n",
    "    print('Found:' + str(r) + ' + ', str(s), ' + ', str(t))\n",
    "    print('Answer = ',str(r*s*t))"
   ]
  }
 ],
 "metadata": {
  "kernelspec": {
   "display_name": "Python 3",
   "language": "python",
   "name": "python3"
  },
  "language_info": {
   "codemirror_mode": {
    "name": "ipython",
    "version": 3
   },
   "file_extension": ".py",
   "mimetype": "text/x-python",
   "name": "python",
   "nbconvert_exporter": "python",
   "pygments_lexer": "ipython3",
   "version": "3.8.0"
  }
 },
 "nbformat": 4,
 "nbformat_minor": 4
}
