{
 "cells": [
  {
   "cell_type": "code",
   "execution_count": 241,
   "metadata": {},
   "outputs": [],
   "source": [
    "# Get the challenge:\n",
    "from aocd import get_data\n",
    "d = (get_data(day=13)).split('\\n')\n",
    "mt = int(d[0])\n",
    "t = d[1].split(',')"
   ]
  },
  {
   "cell_type": "code",
   "execution_count": 242,
   "metadata": {},
   "outputs": [
    {
     "name": "stdout",
     "output_type": "stream",
     "text": [
      "time:23 dt: 7\n",
      "time:41 dt: 23\n",
      "time:829 dt: 458\n",
      "time:13 dt: 6\n",
      "time:17 dt: 11\n",
      "time:29 dt: 14\n",
      "time:677 dt: 5\n",
      "time:37 dt: 31\n",
      "time:19 dt: 17\n",
      "Answer to part 1: 3385\n"
     ]
    }
   ],
   "source": [
    "# This was relatively straightforward...\n",
    "\n",
    "def cm(n,x): # Common multipler code\n",
    "    if x > n:\n",
    "        return x\n",
    "    z = (int)(x/2)\n",
    "    n = n + z\n",
    "    n = n - (n % x)\n",
    "    return n\n",
    "\n",
    "mintg = 1000    \n",
    "    \n",
    "for time in t:\n",
    "\n",
    "    if time !='x':\n",
    "        dt = cm(mt,int(time))-mt\n",
    "        if dt < 0: dt = dt + int(time)\n",
    "        print('time:' + str(time) + ' dt: '+str(dt))\n",
    "        \n",
    "        if dt < mintg:\n",
    "            mintg = dt\n",
    "            bestt = int(time)\n",
    "\n",
    "print('Answer to part 1: ' + str(mintg*bestt))\n",
    "    \n",
    "    "
   ]
  },
  {
   "cell_type": "code",
   "execution_count": 243,
   "metadata": {},
   "outputs": [],
   "source": [
    "# This is clunky and mostly not necessary\n",
    "\n",
    "import copy\n",
    "\n",
    "# Test Data\n",
    "#t = ['7','13','x','x','59','x','31','19']\n",
    "#t = ['17','x','13','19']\n",
    "#t = ['67','7','x','59','61']\n",
    "#t = ['1789','37','47','1889']\n",
    "\n",
    "busses = [int(b) for b in t if b.isnumeric()]\n",
    "bsort = copy.copy(busses)\n",
    "\n",
    "bsortr = []\n",
    "for v in bsort:\n",
    "    bsortr.append((len(t)) - t.index(str(v)))\n",
    "    \n",
    "\n",
    "    "
   ]
  },
  {
   "cell_type": "code",
   "execution_count": 244,
   "metadata": {},
   "outputs": [
    {
     "name": "stdout",
     "output_type": "stream",
     "text": [
      "[23, 41, 829, 13, 17, 29, 677, 37, 19]\n",
      "[74, 61, 51, 38, 37, 22, 20, 14, 1]\n",
      "600689120448303\n"
     ]
    }
   ],
   "source": [
    "# Code from here: https://rosettacode.org/wiki/Chinese_remainder_theorem#Python_3.6\n",
    "\n",
    "# I tried several times to implement this code myself, and didn't manage. I ended up\n",
    "#  using someone else's implementation of CRT\n",
    "\n",
    "from functools import reduce\n",
    "def chinese_remainder(n, a):\n",
    "    sum = 0\n",
    "    prod = reduce(lambda a, b: a*b, n)\n",
    "    for n_i, a_i in zip(n, a):\n",
    "        p = prod // n_i\n",
    "        sum += a_i * mul_inv(p, n_i) * p\n",
    "    return sum % prod\n",
    " \n",
    " \n",
    " \n",
    "def mul_inv(a, b):\n",
    "    b0 = b\n",
    "    x0, x1 = 0, 1\n",
    "    if b == 1: return 1\n",
    "    while a > 1:\n",
    "        q = a // b\n",
    "        a, b = b, a%b\n",
    "        x0, x1 = x1 - q * x0, x0\n",
    "    if x1 < 0: x1 += b0\n",
    "    return x1\n",
    " \n",
    "\n",
    "\n",
    "print(bsort)\n",
    "print(bsortr)\n",
    "print(crt(bsort,bsortr)-len(t))\n",
    "\n"
   ]
  },
  {
   "cell_type": "code",
   "execution_count": null,
   "metadata": {},
   "outputs": [],
   "source": []
  }
 ],
 "metadata": {
  "kernelspec": {
   "display_name": "Python 3",
   "language": "python",
   "name": "python3"
  },
  "language_info": {
   "codemirror_mode": {
    "name": "ipython",
    "version": 3
   },
   "file_extension": ".py",
   "mimetype": "text/x-python",
   "name": "python",
   "nbconvert_exporter": "python",
   "pygments_lexer": "ipython3",
   "version": "3.8.0"
  }
 },
 "nbformat": 4,
 "nbformat_minor": 4
}
